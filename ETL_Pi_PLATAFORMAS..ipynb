{
 "cells": [
  {
   "cell_type": "markdown",
   "id": "f8e0744f",
   "metadata": {},
   "source": [
    "Importing necessary libraries numpy and pandas"
   ]
  },
  {
   "cell_type": "code",
   "execution_count": 10,
   "id": "cc9f18a6",
   "metadata": {},
   "outputs": [],
   "source": [
    "\n",
    "import numpy as np\n",
    "import pandas as pd\n"
   ]
  },
  {
   "cell_type": "markdown",
   "id": "45d9c2d7",
   "metadata": {},
   "source": [
    "Reading CSV files using pandas and storing them in separate dataframes"
   ]
  },
  {
   "cell_type": "code",
   "execution_count": 11,
   "id": "8a24adbb",
   "metadata": {},
   "outputs": [],
   "source": [
    "df1 = pd.read_csv('src/ratings/1.csv')\n",
    "df2 = pd.read_csv('src/ratings/2.csv')\n",
    "df3 = pd.read_csv('src/ratings/3.csv')\n",
    "df4 = pd.read_csv('src/ratings/4.csv')\n",
    "df5 = pd.read_csv('src/ratings/5.csv')\n",
    "df6 = pd.read_csv('src/ratings/6.csv')\n",
    "df7 = pd.read_csv('src/ratings/7.csv')\n",
    "df8 = pd.read_csv('src/ratings/8.csv')"
   ]
  },
  {
   "cell_type": "markdown",
   "id": "fc8a62d1",
   "metadata": {},
   "source": [
    "Concatenating all the dataframes into a single dataframe using pandas concat function"
   ]
  },
  {
   "cell_type": "code",
   "execution_count": 12,
   "id": "a8066d93",
   "metadata": {},
   "outputs": [],
   "source": [
    "dfratings=pd.concat([df1,df2,df3,df4,df5,df6,df7,df8],ignore_index=True)\n"
   ]
  },
  {
   "cell_type": "markdown",
   "id": "65b22a8b",
   "metadata": {},
   "source": [
    "Renaming the 'rating' column to 'score' using the rename() function in pandas"
   ]
  },
  {
   "cell_type": "code",
   "execution_count": 13,
   "id": "16b85c8f",
   "metadata": {},
   "outputs": [],
   "source": [
    "dfratings = dfratings.rename(columns={'rating': 'score'})\n"
   ]
  },
  {
   "cell_type": "markdown",
   "id": "d2bf004a",
   "metadata": {},
   "source": [
    "Renaming the 'movieId' column to 'id' using the rename() function in pandas"
   ]
  },
  {
   "cell_type": "code",
   "execution_count": 14,
   "id": "377aa49c",
   "metadata": {},
   "outputs": [],
   "source": [
    "dfratings = dfratings.rename(columns={'movieId': 'id'})"
   ]
  },
  {
   "cell_type": "markdown",
   "id": "fe06c662",
   "metadata": {},
   "source": [
    "show data frame "
   ]
  },
  {
   "cell_type": "code",
   "execution_count": null,
   "id": "2a41df3a",
   "metadata": {},
   "outputs": [],
   "source": [
    "dfratings"
   ]
  },
  {
   "cell_type": "markdown",
   "id": "3853459d",
   "metadata": {},
   "source": [
    "converting the dataframe to parquet format and saving to disk"
   ]
  },
  {
   "cell_type": "code",
   "execution_count": 16,
   "id": "535af39c",
   "metadata": {},
   "outputs": [],
   "source": [
    "import pyarrow\n",
    "\n",
    "dfratings.to_parquet('dfrating.parquet')"
   ]
  },
  {
   "cell_type": "code",
   "execution_count": 17,
   "id": "8b191d61",
   "metadata": {},
   "outputs": [],
   "source": [
    "dfprt= pd.read_parquet('dfrating.parquet')"
   ]
  },
  {
   "cell_type": "code",
   "execution_count": null,
   "id": "5001a2b3",
   "metadata": {},
   "outputs": [],
   "source": [
    "dfprt"
   ]
  },
  {
   "cell_type": "markdown",
   "id": "59446617",
   "metadata": {},
   "source": [
    "Reading CSV files into separate dataframes for Amazon Prime, Disney Plus, Hulu, and Netflix"
   ]
  },
  {
   "cell_type": "code",
   "execution_count": 19,
   "id": "7f22deda",
   "metadata": {},
   "outputs": [],
   "source": [
    "#se hace la carga de los archivos csv de las plataformas de streaming\n",
    "dfa = pd.read_csv('src/amazon_prime_titles.csv', index_col=False)\n",
    "\n",
    "dfd = pd.read_csv('src/disney_plus_titles.csv', index_col=False)\n",
    "\n",
    "dfh = pd.read_csv('src/hulu_titles.csv', index_col=False)\n",
    "\n",
    "dfn = pd.read_csv('src/netflix_titles.csv', index_col=False)"
   ]
  },
  {
   "cell_type": "markdown",
   "id": "0ef87080",
   "metadata": {},
   "source": [
    "Adding a 'platform' column to each dataframe to identify the source platform"
   ]
  },
  {
   "cell_type": "code",
   "execution_count": 20,
   "id": "614a464d",
   "metadata": {},
   "outputs": [],
   "source": [
    "#creamos una columna de plataforma que contenga como valor la primera letra de cada plataforma de streaming en cada uno de los df\n",
    "\n",
    "dfn['plataforma']= 'n'\n",
    "\n",
    "dfa['plataforma']= 'a'\n",
    "\n",
    "dfd['plataforma']= 'd'\n",
    "\n",
    "dfh['plataforma']= 'h'"
   ]
  },
  {
   "cell_type": "markdown",
   "id": "bdb90d02",
   "metadata": {},
   "source": [
    "Concatenating all the dataframes of different platforms into a single dataframe using pandas concat function"
   ]
  },
  {
   "cell_type": "code",
   "execution_count": 21,
   "id": "5c77ad67",
   "metadata": {},
   "outputs": [],
   "source": [
    "dfplataformas = pd.concat([dfa,dfn,dfh,dfd],ignore_index=True)"
   ]
  },
  {
   "cell_type": "markdown",
   "id": "2943c47c",
   "metadata": {},
   "source": [
    "Adding a new column 'id' to the combined dataframe that consists of the platform and show_id"
   ]
  },
  {
   "cell_type": "code",
   "execution_count": 22,
   "id": "bf37f52f",
   "metadata": {},
   "outputs": [],
   "source": [
    "dfplataformas[\"id\"] = dfplataformas[\"plataforma\"] + dfplataformas[\"show_id\"].astype(str)\n"
   ]
  },
  {
   "cell_type": "markdown",
   "id": "c453fd4f",
   "metadata": {},
   "source": [
    "Converting the 'date_added' column from string to datetime format using the pandas to_datetime() function"
   ]
  },
  {
   "cell_type": "code",
   "execution_count": 23,
   "id": "484d6dd3",
   "metadata": {},
   "outputs": [],
   "source": [
    "dfplataformas[\"date_added\"] = pd.to_datetime(dfplataformas[\"date_added\"]).dt.strftime(\"%Y-%m-%d\")\n"
   ]
  },
  {
   "cell_type": "markdown",
   "id": "9b9958e4",
   "metadata": {},
   "source": [
    "Replacing all missing values in the 'rating' column with the string value \"G\" using the fillna() function"
   ]
  },
  {
   "cell_type": "code",
   "execution_count": 24,
   "id": "2243579e",
   "metadata": {},
   "outputs": [],
   "source": [
    "dfplataformas[\"rating\"] = dfplataformas[\"rating\"].fillna(\"G\")\n"
   ]
  },
  {
   "cell_type": "markdown",
   "id": "d4212bd1",
   "metadata": {},
   "source": [
    "Using the applymap() function to apply a lambda function to all elements of the dataframe\n",
    "The lambda function checks if the element is a string, and if so, converts it to lowercase"
   ]
  },
  {
   "cell_type": "code",
   "execution_count": 25,
   "id": "1babde33",
   "metadata": {},
   "outputs": [],
   "source": [
    "dfplataformas = dfplataformas.applymap(lambda x: x.lower() if type(x) == str else x)\n"
   ]
  },
  {
   "cell_type": "markdown",
   "id": "bf528766",
   "metadata": {},
   "source": [
    "Splitting the 'duration' column into two separate columns using the pandas str.split() function\n",
    "The 'duration_int' column will contain the numerical part of the duration and 'duration_type' column will contain the unit of time (e.g. minutes, seasons)"
   ]
  },
  {
   "cell_type": "code",
   "execution_count": 26,
   "id": "7d5db00b",
   "metadata": {},
   "outputs": [
    {
     "name": "stderr",
     "output_type": "stream",
     "text": [
      "C:\\Users\\luis-\\AppData\\Local\\Temp\\ipykernel_3440\\2105690346.py:1: FutureWarning: In a future version of pandas all arguments of StringMethods.split except for the argument 'pat' will be keyword-only.\n",
      "  dfplataformas[['duration_int', 'duration_type']] = dfplataformas['duration'].str.split(' ',1,expand=True)\n"
     ]
    }
   ],
   "source": [
    "dfplataformas[['duration_int', 'duration_type']] = dfplataformas['duration'].str.split(' ',1,expand=True)"
   ]
  },
  {
   "cell_type": "markdown",
   "id": "c9f69476",
   "metadata": {},
   "source": [
    "función personalizada para calcular el promedio y redondearlo\n",
    "calcular los promedios redondeados y crear el nuevo DataFrame"
   ]
  },
  {
   "cell_type": "code",
   "execution_count": 27,
   "id": "2acd663e",
   "metadata": {},
   "outputs": [],
   "source": [
    "# función personalizada para calcular el promedio y redondearlo\n",
    "def promedio_redondeado(x):\n",
    "    return round(x.mean(), 2)\n",
    "\n",
    "# calcular los promedios redondeados y crear el nuevo DataFrame\n",
    "datos = dfratings.groupby('id').agg({'score': promedio_redondeado}).reset_index()\n",
    "datos.columns = ['id', 'ScoreMedio']"
   ]
  },
  {
   "cell_type": "markdown",
   "id": "8167cbcc",
   "metadata": {},
   "source": [
    "Merging the 'dfplataformas' dataframe with the 'datos' dataframe on the 'id' column using the pandas merge() function\n",
    "This creates a new dataframe 'datos_finales' that contains all the columns from both dataframes and is merged on the common 'id' column"
   ]
  },
  {
   "cell_type": "code",
   "execution_count": 28,
   "id": "4c455cb2",
   "metadata": {},
   "outputs": [],
   "source": [
    "\n",
    "datos_finales = pd.merge(dfplataformas, datos, on='id')"
   ]
  },
  {
   "cell_type": "markdown",
   "id": "4d8030f3",
   "metadata": {},
   "source": [
    "Exporting the final dataframe 'datos_finales' to a csv file using the to_csv() function\n",
    "The csv file is saved as 'df_plataformas_final.csv' in the current working directory"
   ]
  },
  {
   "cell_type": "code",
   "execution_count": 29,
   "id": "6ab9a557",
   "metadata": {},
   "outputs": [],
   "source": [
    "datos_finales.to_csv('df_plataformas_final.csv')"
   ]
  },
  {
   "cell_type": "markdown",
   "id": "d0e21752",
   "metadata": {},
   "source": [
    "Merging the 'dfratings' dataframe with the 'dfplataformas' dataframe on the 'id' column using the pandas merge() function\n",
    "This creates a new dataframe 'df_final' that contains all the columns from both dataframes and is merged on the common 'id' column"
   ]
  },
  {
   "cell_type": "code",
   "execution_count": 31,
   "id": "47920278",
   "metadata": {},
   "outputs": [],
   "source": [
    "df_final= pd.merge(dfratings, dfplataformas, on='id')"
   ]
  },
  {
   "cell_type": "markdown",
   "id": "68d4c461",
   "metadata": {},
   "source": [
    "Exporting the final dataframe 'df_final' to a Parquet file using the to_parquet() function\n",
    "The Parquet file is saved as 'df_final.parquet' in the current working directory"
   ]
  },
  {
   "cell_type": "code",
   "execution_count": 32,
   "id": "1939c84d",
   "metadata": {},
   "outputs": [],
   "source": [
    "df_final.to_parquet('df_final.parquet')"
   ]
  }
 ],
 "metadata": {
  "kernelspec": {
   "display_name": "Python 3.11.0 64-bit",
   "language": "python",
   "name": "python3"
  },
  "language_info": {
   "codemirror_mode": {
    "name": "ipython",
    "version": 3
   },
   "file_extension": ".py",
   "mimetype": "text/x-python",
   "name": "python",
   "nbconvert_exporter": "python",
   "pygments_lexer": "ipython3",
   "version": "3.11.0"
  },
  "vscode": {
   "interpreter": {
    "hash": "5238573367df39f7286bb46f9ff5f08f63a01a80960060ce41e3c79b190280fa"
   }
  }
 },
 "nbformat": 4,
 "nbformat_minor": 5
}
