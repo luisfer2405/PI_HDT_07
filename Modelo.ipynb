{
 "cells": [
  {
   "cell_type": "code",
   "execution_count": 13,
   "metadata": {},
   "outputs": [],
   "source": [
    "from surprise import Dataset, Reader, SVD\n",
    "from surprise.model_selection import train_test_split\n",
    "from surprise.accuracy import rmse\n",
    "import pandas as pd\n",
    "import pyspark\n",
    "from pyspark.sql.types import *\n",
    "from pyspark.sql.functions import pandas_udf\n",
    "import pickle as pkl\n",
    "import pyspark\n",
    "from pyspark.sql.functions import pandas_udf\n",
    "\n",
    "\n"
   ]
  },
  {
   "cell_type": "code",
   "execution_count": 2,
   "metadata": {},
   "outputs": [
    {
     "data": {
      "text/html": [
       "<div>\n",
       "<style scoped>\n",
       "    .dataframe tbody tr th:only-of-type {\n",
       "        vertical-align: middle;\n",
       "    }\n",
       "\n",
       "    .dataframe tbody tr th {\n",
       "        vertical-align: top;\n",
       "    }\n",
       "\n",
       "    .dataframe thead th {\n",
       "        text-align: right;\n",
       "    }\n",
       "</style>\n",
       "<table border=\"1\" class=\"dataframe\">\n",
       "  <thead>\n",
       "    <tr style=\"text-align: right;\">\n",
       "      <th></th>\n",
       "      <th>userId</th>\n",
       "      <th>score</th>\n",
       "      <th>timestamp</th>\n",
       "      <th>id</th>\n",
       "      <th>show_id</th>\n",
       "      <th>type</th>\n",
       "      <th>title</th>\n",
       "      <th>director</th>\n",
       "      <th>cast</th>\n",
       "      <th>country</th>\n",
       "      <th>date_added</th>\n",
       "      <th>release_year</th>\n",
       "      <th>rating</th>\n",
       "      <th>duration</th>\n",
       "      <th>listed_in</th>\n",
       "      <th>description</th>\n",
       "      <th>plataforma</th>\n",
       "      <th>duration_int</th>\n",
       "      <th>duration_type</th>\n",
       "    </tr>\n",
       "  </thead>\n",
       "  <tbody>\n",
       "    <tr>\n",
       "      <th>0</th>\n",
       "      <td>1</td>\n",
       "      <td>1.0</td>\n",
       "      <td>1425941529</td>\n",
       "      <td>as680</td>\n",
       "      <td>s680</td>\n",
       "      <td>tv show</td>\n",
       "      <td>the english civil war</td>\n",
       "      <td>None</td>\n",
       "      <td>robert whelan</td>\n",
       "      <td>None</td>\n",
       "      <td>None</td>\n",
       "      <td>2019</td>\n",
       "      <td>13+</td>\n",
       "      <td>1 season</td>\n",
       "      <td>documentary, special interest</td>\n",
       "      <td>a nation divided. it was a time of great bitte...</td>\n",
       "      <td>a</td>\n",
       "      <td>1</td>\n",
       "      <td>season</td>\n",
       "    </tr>\n",
       "    <tr>\n",
       "      <th>1</th>\n",
       "      <td>583</td>\n",
       "      <td>4.5</td>\n",
       "      <td>1112982383</td>\n",
       "      <td>as680</td>\n",
       "      <td>s680</td>\n",
       "      <td>tv show</td>\n",
       "      <td>the english civil war</td>\n",
       "      <td>None</td>\n",
       "      <td>robert whelan</td>\n",
       "      <td>None</td>\n",
       "      <td>None</td>\n",
       "      <td>2019</td>\n",
       "      <td>13+</td>\n",
       "      <td>1 season</td>\n",
       "      <td>documentary, special interest</td>\n",
       "      <td>a nation divided. it was a time of great bitte...</td>\n",
       "      <td>a</td>\n",
       "      <td>1</td>\n",
       "      <td>season</td>\n",
       "    </tr>\n",
       "    <tr>\n",
       "      <th>2</th>\n",
       "      <td>765</td>\n",
       "      <td>5.0</td>\n",
       "      <td>889677014</td>\n",
       "      <td>as680</td>\n",
       "      <td>s680</td>\n",
       "      <td>tv show</td>\n",
       "      <td>the english civil war</td>\n",
       "      <td>None</td>\n",
       "      <td>robert whelan</td>\n",
       "      <td>None</td>\n",
       "      <td>None</td>\n",
       "      <td>2019</td>\n",
       "      <td>13+</td>\n",
       "      <td>1 season</td>\n",
       "      <td>documentary, special interest</td>\n",
       "      <td>a nation divided. it was a time of great bitte...</td>\n",
       "      <td>a</td>\n",
       "      <td>1</td>\n",
       "      <td>season</td>\n",
       "    </tr>\n",
       "    <tr>\n",
       "      <th>3</th>\n",
       "      <td>2116</td>\n",
       "      <td>3.0</td>\n",
       "      <td>836264839</td>\n",
       "      <td>as680</td>\n",
       "      <td>s680</td>\n",
       "      <td>tv show</td>\n",
       "      <td>the english civil war</td>\n",
       "      <td>None</td>\n",
       "      <td>robert whelan</td>\n",
       "      <td>None</td>\n",
       "      <td>None</td>\n",
       "      <td>2019</td>\n",
       "      <td>13+</td>\n",
       "      <td>1 season</td>\n",
       "      <td>documentary, special interest</td>\n",
       "      <td>a nation divided. it was a time of great bitte...</td>\n",
       "      <td>a</td>\n",
       "      <td>1</td>\n",
       "      <td>season</td>\n",
       "    </tr>\n",
       "    <tr>\n",
       "      <th>4</th>\n",
       "      <td>2143</td>\n",
       "      <td>3.0</td>\n",
       "      <td>1435067487</td>\n",
       "      <td>as680</td>\n",
       "      <td>s680</td>\n",
       "      <td>tv show</td>\n",
       "      <td>the english civil war</td>\n",
       "      <td>None</td>\n",
       "      <td>robert whelan</td>\n",
       "      <td>None</td>\n",
       "      <td>None</td>\n",
       "      <td>2019</td>\n",
       "      <td>13+</td>\n",
       "      <td>1 season</td>\n",
       "      <td>documentary, special interest</td>\n",
       "      <td>a nation divided. it was a time of great bitte...</td>\n",
       "      <td>a</td>\n",
       "      <td>1</td>\n",
       "      <td>season</td>\n",
       "    </tr>\n",
       "  </tbody>\n",
       "</table>\n",
       "</div>"
      ],
      "text/plain": [
       "   userId  score   timestamp     id show_id     type                  title  \\\n",
       "0       1    1.0  1425941529  as680    s680  tv show  the english civil war   \n",
       "1     583    4.5  1112982383  as680    s680  tv show  the english civil war   \n",
       "2     765    5.0   889677014  as680    s680  tv show  the english civil war   \n",
       "3    2116    3.0   836264839  as680    s680  tv show  the english civil war   \n",
       "4    2143    3.0  1435067487  as680    s680  tv show  the english civil war   \n",
       "\n",
       "  director           cast country date_added  release_year rating  duration  \\\n",
       "0     None  robert whelan    None       None          2019    13+  1 season   \n",
       "1     None  robert whelan    None       None          2019    13+  1 season   \n",
       "2     None  robert whelan    None       None          2019    13+  1 season   \n",
       "3     None  robert whelan    None       None          2019    13+  1 season   \n",
       "4     None  robert whelan    None       None          2019    13+  1 season   \n",
       "\n",
       "                       listed_in  \\\n",
       "0  documentary, special interest   \n",
       "1  documentary, special interest   \n",
       "2  documentary, special interest   \n",
       "3  documentary, special interest   \n",
       "4  documentary, special interest   \n",
       "\n",
       "                                         description plataforma duration_int  \\\n",
       "0  a nation divided. it was a time of great bitte...          a            1   \n",
       "1  a nation divided. it was a time of great bitte...          a            1   \n",
       "2  a nation divided. it was a time of great bitte...          a            1   \n",
       "3  a nation divided. it was a time of great bitte...          a            1   \n",
       "4  a nation divided. it was a time of great bitte...          a            1   \n",
       "\n",
       "  duration_type  \n",
       "0        season  \n",
       "1        season  \n",
       "2        season  \n",
       "3        season  \n",
       "4        season  "
      ]
     },
     "execution_count": 2,
     "metadata": {},
     "output_type": "execute_result"
    }
   ],
   "source": [
    "df = pd.read_parquet('src\\df_final.parquet')\n",
    "df.head()"
   ]
  },
  {
   "cell_type": "code",
   "execution_count": 3,
   "metadata": {},
   "outputs": [],
   "source": [
    "reader = Reader(rating_scale=(1, 5))\n"
   ]
  },
  {
   "cell_type": "code",
   "execution_count": 4,
   "metadata": {},
   "outputs": [],
   "source": [
    "# Crear el dataset de Surprise\n",
    "data = Dataset.load_from_df(df[['userId', 'id', 'score']], reader)"
   ]
  },
  {
   "cell_type": "code",
   "execution_count": 5,
   "metadata": {},
   "outputs": [],
   "source": [
    "# Dividir los datos en train y test\n",
    "trainset, testset = train_test_split(data, test_size=0.2)"
   ]
  },
  {
   "cell_type": "code",
   "execution_count": 6,
   "metadata": {},
   "outputs": [
    {
     "data": {
      "text/plain": [
       "<surprise.prediction_algorithms.matrix_factorization.SVD at 0x2910ed89090>"
      ]
     },
     "execution_count": 6,
     "metadata": {},
     "output_type": "execute_result"
    }
   ],
   "source": [
    "# Crear el modelo y entrenarlo con los datos de train\n",
    "model = SVD()\n",
    "model.fit(trainset)"
   ]
  },
  {
   "cell_type": "code",
   "execution_count": 8,
   "metadata": {},
   "outputs": [],
   "source": [
    "# Predecir las puntuaciones para los datos de test\n",
    "predictions = model.test(testset)"
   ]
  },
  {
   "cell_type": "code",
   "execution_count": null,
   "metadata": {},
   "outputs": [],
   "source": []
  },
  {
   "cell_type": "code",
   "execution_count": 9,
   "metadata": {},
   "outputs": [
    {
     "name": "stdout",
     "output_type": "stream",
     "text": [
      "RMSE: 1.0009\n",
      "RMSE: 1.0008635003183566\n"
     ]
    }
   ],
   "source": [
    "# Calcular el error RMSE\n",
    "accuracy = rmse(predictions)\n",
    "print('RMSE:', accuracy)"
   ]
  },
  {
   "cell_type": "code",
   "execution_count": 10,
   "metadata": {},
   "outputs": [],
   "source": [
    "spark = pyspark.sql.SparkSession.builder.appName('predicions_movie').getOrCreate()\n"
   ]
  },
  {
   "cell_type": "code",
   "execution_count": 11,
   "metadata": {},
   "outputs": [],
   "source": [
    "schema = StructType([\n",
    "    StructField('modelo', BinaryType(), True)\n",
    "])\n"
   ]
  },
  {
   "cell_type": "code",
   "execution_count": 14,
   "metadata": {},
   "outputs": [],
   "source": [
    "#Guardar el modelo entrenado en un archivo utilizando pickle\n",
    "with open('mi_modelo_entrenado.pkl', 'wb') as archivo:\n",
    "    pkl.dump(model, archivo)"
   ]
  },
  {
   "cell_type": "code",
   "execution_count": 18,
   "metadata": {},
   "outputs": [
    {
     "name": "stdout",
     "output_type": "stream",
     "text": [
      "('es buena pelicula', 3.5646862928357925)\n"
     ]
    }
   ],
   "source": [
    "userId = '4'\n",
    "itemId = 'ns8'\n",
    "prediction = model.predict(userId, itemId)\n",
    "\n",
    "if prediction.est >=4:\n",
    "    mensaje = 'esta muy buena, hay que verla', prediction.est\n",
    "elif prediction.est >=3 and prediction.est < 4:\n",
    "    mensaje = 'es buena pelicula', prediction.est\n",
    "else:\n",
    "    mensaje = 'es una pelicula muy \"hueso\"'\n",
    "\n",
    "print(mensaje)\n"
   ]
  }
 ],
 "metadata": {
  "kernelspec": {
   "display_name": "Python 3.11.0 64-bit",
   "language": "python",
   "name": "python3"
  },
  "language_info": {
   "codemirror_mode": {
    "name": "ipython",
    "version": 3
   },
   "file_extension": ".py",
   "mimetype": "text/x-python",
   "name": "python",
   "nbconvert_exporter": "python",
   "pygments_lexer": "ipython3",
   "version": "3.11.0"
  },
  "orig_nbformat": 4,
  "vscode": {
   "interpreter": {
    "hash": "5238573367df39f7286bb46f9ff5f08f63a01a80960060ce41e3c79b190280fa"
   }
  }
 },
 "nbformat": 4,
 "nbformat_minor": 2
}
