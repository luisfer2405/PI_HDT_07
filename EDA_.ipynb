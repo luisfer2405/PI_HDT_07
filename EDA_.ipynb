{
  "nbformat": 4,
  "nbformat_minor": 0,
  "metadata": {
    "colab": {
      "provenance": [],
      "mount_file_id": "17BK2EXneAxCcVTSPySdhWPxL7qqRtCll",
      "authorship_tag": "ABX9TyPpVMoakHDESl73+5LE1kwR",
      "include_colab_link": true
    },
    "kernelspec": {
      "name": "python3",
      "display_name": "Python 3"
    },
    "language_info": {
      "name": "python"
    }
  },
  "cells": [
    {
      "cell_type": "markdown",
      "metadata": {
        "id": "view-in-github",
        "colab_type": "text"
      },
      "source": [
        "<a href=\"https://colab.research.google.com/github/luisfer2405/PI_HDT_07_FEB_2023/blob/main/EDA_.ipynb\" target=\"_parent\"><img src=\"https://colab.research.google.com/assets/colab-badge.svg\" alt=\"Open In Colab\"/></a>"
      ]
    },
    {
      "cell_type": "code",
      "execution_count": null,
      "metadata": {
        "id": "3hitpdlWxeBM"
      },
      "outputs": [],
      "source": [
        "import pandas as pd\n",
        "import numpy as np\n",
        "import matplotlib.pyplot as plt\n",
        "import seaborn as sns\n"
      ]
    },
    {
      "cell_type": "code",
      "source": [
        "df = pd.read_parquet('/content/drive/MyDrive/df_final.parquet')\n",
        "df.head()\n"
      ],
      "metadata": {
        "colab": {
          "base_uri": "https://localhost:8080/",
          "height": 511
        },
        "id": "671-fJ3wNCAa",
        "outputId": "525e8d25-134a-4e89-e00a-a5ed94879db6"
      },
      "execution_count": null,
      "outputs": [
        {
          "output_type": "execute_result",
          "data": {
            "text/plain": [
              "   userId  score   timestamp     id show_id     type                  title  \\\n",
              "0       1    1.0  1425941529  as680    s680  tv show  the english civil war   \n",
              "1     583    4.5  1112982383  as680    s680  tv show  the english civil war   \n",
              "2     765    5.0   889677014  as680    s680  tv show  the english civil war   \n",
              "3    2116    3.0   836264839  as680    s680  tv show  the english civil war   \n",
              "4    2143    3.0  1435067487  as680    s680  tv show  the english civil war   \n",
              "\n",
              "  director           cast country date_added  release_year rating  duration  \\\n",
              "0     None  robert whelan    None       None          2019    13+  1 season   \n",
              "1     None  robert whelan    None       None          2019    13+  1 season   \n",
              "2     None  robert whelan    None       None          2019    13+  1 season   \n",
              "3     None  robert whelan    None       None          2019    13+  1 season   \n",
              "4     None  robert whelan    None       None          2019    13+  1 season   \n",
              "\n",
              "                       listed_in  \\\n",
              "0  documentary, special interest   \n",
              "1  documentary, special interest   \n",
              "2  documentary, special interest   \n",
              "3  documentary, special interest   \n",
              "4  documentary, special interest   \n",
              "\n",
              "                                         description plataforma duration_int  \\\n",
              "0  a nation divided. it was a time of great bitte...          a            1   \n",
              "1  a nation divided. it was a time of great bitte...          a            1   \n",
              "2  a nation divided. it was a time of great bitte...          a            1   \n",
              "3  a nation divided. it was a time of great bitte...          a            1   \n",
              "4  a nation divided. it was a time of great bitte...          a            1   \n",
              "\n",
              "  duration_type  \n",
              "0        season  \n",
              "1        season  \n",
              "2        season  \n",
              "3        season  \n",
              "4        season  "
            ],
            "text/html": [
              "\n",
              "  <div id=\"df-cd7262c6-5c41-47ce-aeb5-e06570bf4f05\">\n",
              "    <div class=\"colab-df-container\">\n",
              "      <div>\n",
              "<style scoped>\n",
              "    .dataframe tbody tr th:only-of-type {\n",
              "        vertical-align: middle;\n",
              "    }\n",
              "\n",
              "    .dataframe tbody tr th {\n",
              "        vertical-align: top;\n",
              "    }\n",
              "\n",
              "    .dataframe thead th {\n",
              "        text-align: right;\n",
              "    }\n",
              "</style>\n",
              "<table border=\"1\" class=\"dataframe\">\n",
              "  <thead>\n",
              "    <tr style=\"text-align: right;\">\n",
              "      <th></th>\n",
              "      <th>userId</th>\n",
              "      <th>score</th>\n",
              "      <th>timestamp</th>\n",
              "      <th>id</th>\n",
              "      <th>show_id</th>\n",
              "      <th>type</th>\n",
              "      <th>title</th>\n",
              "      <th>director</th>\n",
              "      <th>cast</th>\n",
              "      <th>country</th>\n",
              "      <th>date_added</th>\n",
              "      <th>release_year</th>\n",
              "      <th>rating</th>\n",
              "      <th>duration</th>\n",
              "      <th>listed_in</th>\n",
              "      <th>description</th>\n",
              "      <th>plataforma</th>\n",
              "      <th>duration_int</th>\n",
              "      <th>duration_type</th>\n",
              "    </tr>\n",
              "  </thead>\n",
              "  <tbody>\n",
              "    <tr>\n",
              "      <th>0</th>\n",
              "      <td>1</td>\n",
              "      <td>1.0</td>\n",
              "      <td>1425941529</td>\n",
              "      <td>as680</td>\n",
              "      <td>s680</td>\n",
              "      <td>tv show</td>\n",
              "      <td>the english civil war</td>\n",
              "      <td>None</td>\n",
              "      <td>robert whelan</td>\n",
              "      <td>None</td>\n",
              "      <td>None</td>\n",
              "      <td>2019</td>\n",
              "      <td>13+</td>\n",
              "      <td>1 season</td>\n",
              "      <td>documentary, special interest</td>\n",
              "      <td>a nation divided. it was a time of great bitte...</td>\n",
              "      <td>a</td>\n",
              "      <td>1</td>\n",
              "      <td>season</td>\n",
              "    </tr>\n",
              "    <tr>\n",
              "      <th>1</th>\n",
              "      <td>583</td>\n",
              "      <td>4.5</td>\n",
              "      <td>1112982383</td>\n",
              "      <td>as680</td>\n",
              "      <td>s680</td>\n",
              "      <td>tv show</td>\n",
              "      <td>the english civil war</td>\n",
              "      <td>None</td>\n",
              "      <td>robert whelan</td>\n",
              "      <td>None</td>\n",
              "      <td>None</td>\n",
              "      <td>2019</td>\n",
              "      <td>13+</td>\n",
              "      <td>1 season</td>\n",
              "      <td>documentary, special interest</td>\n",
              "      <td>a nation divided. it was a time of great bitte...</td>\n",
              "      <td>a</td>\n",
              "      <td>1</td>\n",
              "      <td>season</td>\n",
              "    </tr>\n",
              "    <tr>\n",
              "      <th>2</th>\n",
              "      <td>765</td>\n",
              "      <td>5.0</td>\n",
              "      <td>889677014</td>\n",
              "      <td>as680</td>\n",
              "      <td>s680</td>\n",
              "      <td>tv show</td>\n",
              "      <td>the english civil war</td>\n",
              "      <td>None</td>\n",
              "      <td>robert whelan</td>\n",
              "      <td>None</td>\n",
              "      <td>None</td>\n",
              "      <td>2019</td>\n",
              "      <td>13+</td>\n",
              "      <td>1 season</td>\n",
              "      <td>documentary, special interest</td>\n",
              "      <td>a nation divided. it was a time of great bitte...</td>\n",
              "      <td>a</td>\n",
              "      <td>1</td>\n",
              "      <td>season</td>\n",
              "    </tr>\n",
              "    <tr>\n",
              "      <th>3</th>\n",
              "      <td>2116</td>\n",
              "      <td>3.0</td>\n",
              "      <td>836264839</td>\n",
              "      <td>as680</td>\n",
              "      <td>s680</td>\n",
              "      <td>tv show</td>\n",
              "      <td>the english civil war</td>\n",
              "      <td>None</td>\n",
              "      <td>robert whelan</td>\n",
              "      <td>None</td>\n",
              "      <td>None</td>\n",
              "      <td>2019</td>\n",
              "      <td>13+</td>\n",
              "      <td>1 season</td>\n",
              "      <td>documentary, special interest</td>\n",
              "      <td>a nation divided. it was a time of great bitte...</td>\n",
              "      <td>a</td>\n",
              "      <td>1</td>\n",
              "      <td>season</td>\n",
              "    </tr>\n",
              "    <tr>\n",
              "      <th>4</th>\n",
              "      <td>2143</td>\n",
              "      <td>3.0</td>\n",
              "      <td>1435067487</td>\n",
              "      <td>as680</td>\n",
              "      <td>s680</td>\n",
              "      <td>tv show</td>\n",
              "      <td>the english civil war</td>\n",
              "      <td>None</td>\n",
              "      <td>robert whelan</td>\n",
              "      <td>None</td>\n",
              "      <td>None</td>\n",
              "      <td>2019</td>\n",
              "      <td>13+</td>\n",
              "      <td>1 season</td>\n",
              "      <td>documentary, special interest</td>\n",
              "      <td>a nation divided. it was a time of great bitte...</td>\n",
              "      <td>a</td>\n",
              "      <td>1</td>\n",
              "      <td>season</td>\n",
              "    </tr>\n",
              "  </tbody>\n",
              "</table>\n",
              "</div>\n",
              "      <button class=\"colab-df-convert\" onclick=\"convertToInteractive('df-cd7262c6-5c41-47ce-aeb5-e06570bf4f05')\"\n",
              "              title=\"Convert this dataframe to an interactive table.\"\n",
              "              style=\"display:none;\">\n",
              "        \n",
              "  <svg xmlns=\"http://www.w3.org/2000/svg\" height=\"24px\"viewBox=\"0 0 24 24\"\n",
              "       width=\"24px\">\n",
              "    <path d=\"M0 0h24v24H0V0z\" fill=\"none\"/>\n",
              "    <path d=\"M18.56 5.44l.94 2.06.94-2.06 2.06-.94-2.06-.94-.94-2.06-.94 2.06-2.06.94zm-11 1L8.5 8.5l.94-2.06 2.06-.94-2.06-.94L8.5 2.5l-.94 2.06-2.06.94zm10 10l.94 2.06.94-2.06 2.06-.94-2.06-.94-.94-2.06-.94 2.06-2.06.94z\"/><path d=\"M17.41 7.96l-1.37-1.37c-.4-.4-.92-.59-1.43-.59-.52 0-1.04.2-1.43.59L10.3 9.45l-7.72 7.72c-.78.78-.78 2.05 0 2.83L4 21.41c.39.39.9.59 1.41.59.51 0 1.02-.2 1.41-.59l7.78-7.78 2.81-2.81c.8-.78.8-2.07 0-2.86zM5.41 20L4 18.59l7.72-7.72 1.47 1.35L5.41 20z\"/>\n",
              "  </svg>\n",
              "      </button>\n",
              "      \n",
              "  <style>\n",
              "    .colab-df-container {\n",
              "      display:flex;\n",
              "      flex-wrap:wrap;\n",
              "      gap: 12px;\n",
              "    }\n",
              "\n",
              "    .colab-df-convert {\n",
              "      background-color: #E8F0FE;\n",
              "      border: none;\n",
              "      border-radius: 50%;\n",
              "      cursor: pointer;\n",
              "      display: none;\n",
              "      fill: #1967D2;\n",
              "      height: 32px;\n",
              "      padding: 0 0 0 0;\n",
              "      width: 32px;\n",
              "    }\n",
              "\n",
              "    .colab-df-convert:hover {\n",
              "      background-color: #E2EBFA;\n",
              "      box-shadow: 0px 1px 2px rgba(60, 64, 67, 0.3), 0px 1px 3px 1px rgba(60, 64, 67, 0.15);\n",
              "      fill: #174EA6;\n",
              "    }\n",
              "\n",
              "    [theme=dark] .colab-df-convert {\n",
              "      background-color: #3B4455;\n",
              "      fill: #D2E3FC;\n",
              "    }\n",
              "\n",
              "    [theme=dark] .colab-df-convert:hover {\n",
              "      background-color: #434B5C;\n",
              "      box-shadow: 0px 1px 3px 1px rgba(0, 0, 0, 0.15);\n",
              "      filter: drop-shadow(0px 1px 2px rgba(0, 0, 0, 0.3));\n",
              "      fill: #FFFFFF;\n",
              "    }\n",
              "  </style>\n",
              "\n",
              "      <script>\n",
              "        const buttonEl =\n",
              "          document.querySelector('#df-cd7262c6-5c41-47ce-aeb5-e06570bf4f05 button.colab-df-convert');\n",
              "        buttonEl.style.display =\n",
              "          google.colab.kernel.accessAllowed ? 'block' : 'none';\n",
              "\n",
              "        async function convertToInteractive(key) {\n",
              "          const element = document.querySelector('#df-cd7262c6-5c41-47ce-aeb5-e06570bf4f05');\n",
              "          const dataTable =\n",
              "            await google.colab.kernel.invokeFunction('convertToInteractive',\n",
              "                                                     [key], {});\n",
              "          if (!dataTable) return;\n",
              "\n",
              "          const docLinkHtml = 'Like what you see? Visit the ' +\n",
              "            '<a target=\"_blank\" href=https://colab.research.google.com/notebooks/data_table.ipynb>data table notebook</a>'\n",
              "            + ' to learn more about interactive tables.';\n",
              "          element.innerHTML = '';\n",
              "          dataTable['output_type'] = 'display_data';\n",
              "          await google.colab.output.renderOutput(dataTable, element);\n",
              "          const docLink = document.createElement('div');\n",
              "          docLink.innerHTML = docLinkHtml;\n",
              "          element.appendChild(docLink);\n",
              "        }\n",
              "      </script>\n",
              "    </div>\n",
              "  </div>\n",
              "  "
            ]
          },
          "metadata": {},
          "execution_count": 2
        }
      ]
    },
    {
      "cell_type": "code",
      "source": [
        "df.shape\n"
      ],
      "metadata": {
        "colab": {
          "base_uri": "https://localhost:8080/"
        },
        "id": "abzcwEIDNZA2",
        "outputId": "d28ea28b-0089-4480-984e-9a94c23d1054"
      },
      "execution_count": null,
      "outputs": [
        {
          "output_type": "execute_result",
          "data": {
            "text/plain": [
              "(11024289, 19)"
            ]
          },
          "metadata": {},
          "execution_count": 3
        }
      ]
    },
    {
      "cell_type": "code",
      "source": [
        "df.info()\n"
      ],
      "metadata": {
        "colab": {
          "base_uri": "https://localhost:8080/"
        },
        "id": "a3PWNRSJNcQG",
        "outputId": "7f48f25d-4c70-4cad-af0c-744e7f6c74fe"
      },
      "execution_count": null,
      "outputs": [
        {
          "output_type": "stream",
          "name": "stdout",
          "text": [
            "<class 'pandas.core.frame.DataFrame'>\n",
            "Int64Index: 11024289 entries, 0 to 11024288\n",
            "Data columns (total 19 columns):\n",
            " #   Column         Dtype  \n",
            "---  ------         -----  \n",
            " 0   userId         int64  \n",
            " 1   score          float64\n",
            " 2   timestamp      int64  \n",
            " 3   id             object \n",
            " 4   show_id        object \n",
            " 5   type           object \n",
            " 6   title          object \n",
            " 7   director       object \n",
            " 8   cast           object \n",
            " 9   country        object \n",
            " 10  date_added     object \n",
            " 11  release_year   int64  \n",
            " 12  rating         object \n",
            " 13  duration       object \n",
            " 14  listed_in      object \n",
            " 15  description    object \n",
            " 16  plataforma     object \n",
            " 17  duration_int   object \n",
            " 18  duration_type  object \n",
            "dtypes: float64(1), int64(3), object(15)\n",
            "memory usage: 1.6+ GB\n"
          ]
        }
      ]
    },
    {
      "cell_type": "code",
      "source": [
        "df.describe()\n"
      ],
      "metadata": {
        "colab": {
          "base_uri": "https://localhost:8080/",
          "height": 300
        },
        "id": "eHBwa9_gNqT3",
        "outputId": "31faa5fa-9078-42f6-bf39-2eab1cefe080"
      },
      "execution_count": null,
      "outputs": [
        {
          "output_type": "execute_result",
          "data": {
            "text/plain": [
              "             userId         score     timestamp  release_year\n",
              "count  1.102429e+07  1.102429e+07  1.102429e+07  1.102429e+07\n",
              "mean   8.997251e+04  3.533455e+00  1.172542e+09  2.010819e+03\n",
              "std    8.686601e+04  1.059692e+00  2.056774e+08  1.538663e+01\n",
              "min    1.000000e+00  5.000000e-01  7.896520e+08  1.920000e+03\n",
              "25%    2.855800e+04  3.000000e+00  9.901593e+08  2.010000e+03\n",
              "50%    5.684300e+04  3.500000e+00  1.153610e+09  2.016000e+03\n",
              "75%    1.168670e+05  4.000000e+00  1.360470e+09  2.019000e+03\n",
              "max    2.708960e+05  5.000000e+00  1.501827e+09  2.021000e+03"
            ],
            "text/html": [
              "\n",
              "  <div id=\"df-e27fa8be-5363-4311-8f93-d427ad596a79\">\n",
              "    <div class=\"colab-df-container\">\n",
              "      <div>\n",
              "<style scoped>\n",
              "    .dataframe tbody tr th:only-of-type {\n",
              "        vertical-align: middle;\n",
              "    }\n",
              "\n",
              "    .dataframe tbody tr th {\n",
              "        vertical-align: top;\n",
              "    }\n",
              "\n",
              "    .dataframe thead th {\n",
              "        text-align: right;\n",
              "    }\n",
              "</style>\n",
              "<table border=\"1\" class=\"dataframe\">\n",
              "  <thead>\n",
              "    <tr style=\"text-align: right;\">\n",
              "      <th></th>\n",
              "      <th>userId</th>\n",
              "      <th>score</th>\n",
              "      <th>timestamp</th>\n",
              "      <th>release_year</th>\n",
              "    </tr>\n",
              "  </thead>\n",
              "  <tbody>\n",
              "    <tr>\n",
              "      <th>count</th>\n",
              "      <td>1.102429e+07</td>\n",
              "      <td>1.102429e+07</td>\n",
              "      <td>1.102429e+07</td>\n",
              "      <td>1.102429e+07</td>\n",
              "    </tr>\n",
              "    <tr>\n",
              "      <th>mean</th>\n",
              "      <td>8.997251e+04</td>\n",
              "      <td>3.533455e+00</td>\n",
              "      <td>1.172542e+09</td>\n",
              "      <td>2.010819e+03</td>\n",
              "    </tr>\n",
              "    <tr>\n",
              "      <th>std</th>\n",
              "      <td>8.686601e+04</td>\n",
              "      <td>1.059692e+00</td>\n",
              "      <td>2.056774e+08</td>\n",
              "      <td>1.538663e+01</td>\n",
              "    </tr>\n",
              "    <tr>\n",
              "      <th>min</th>\n",
              "      <td>1.000000e+00</td>\n",
              "      <td>5.000000e-01</td>\n",
              "      <td>7.896520e+08</td>\n",
              "      <td>1.920000e+03</td>\n",
              "    </tr>\n",
              "    <tr>\n",
              "      <th>25%</th>\n",
              "      <td>2.855800e+04</td>\n",
              "      <td>3.000000e+00</td>\n",
              "      <td>9.901593e+08</td>\n",
              "      <td>2.010000e+03</td>\n",
              "    </tr>\n",
              "    <tr>\n",
              "      <th>50%</th>\n",
              "      <td>5.684300e+04</td>\n",
              "      <td>3.500000e+00</td>\n",
              "      <td>1.153610e+09</td>\n",
              "      <td>2.016000e+03</td>\n",
              "    </tr>\n",
              "    <tr>\n",
              "      <th>75%</th>\n",
              "      <td>1.168670e+05</td>\n",
              "      <td>4.000000e+00</td>\n",
              "      <td>1.360470e+09</td>\n",
              "      <td>2.019000e+03</td>\n",
              "    </tr>\n",
              "    <tr>\n",
              "      <th>max</th>\n",
              "      <td>2.708960e+05</td>\n",
              "      <td>5.000000e+00</td>\n",
              "      <td>1.501827e+09</td>\n",
              "      <td>2.021000e+03</td>\n",
              "    </tr>\n",
              "  </tbody>\n",
              "</table>\n",
              "</div>\n",
              "      <button class=\"colab-df-convert\" onclick=\"convertToInteractive('df-e27fa8be-5363-4311-8f93-d427ad596a79')\"\n",
              "              title=\"Convert this dataframe to an interactive table.\"\n",
              "              style=\"display:none;\">\n",
              "        \n",
              "  <svg xmlns=\"http://www.w3.org/2000/svg\" height=\"24px\"viewBox=\"0 0 24 24\"\n",
              "       width=\"24px\">\n",
              "    <path d=\"M0 0h24v24H0V0z\" fill=\"none\"/>\n",
              "    <path d=\"M18.56 5.44l.94 2.06.94-2.06 2.06-.94-2.06-.94-.94-2.06-.94 2.06-2.06.94zm-11 1L8.5 8.5l.94-2.06 2.06-.94-2.06-.94L8.5 2.5l-.94 2.06-2.06.94zm10 10l.94 2.06.94-2.06 2.06-.94-2.06-.94-.94-2.06-.94 2.06-2.06.94z\"/><path d=\"M17.41 7.96l-1.37-1.37c-.4-.4-.92-.59-1.43-.59-.52 0-1.04.2-1.43.59L10.3 9.45l-7.72 7.72c-.78.78-.78 2.05 0 2.83L4 21.41c.39.39.9.59 1.41.59.51 0 1.02-.2 1.41-.59l7.78-7.78 2.81-2.81c.8-.78.8-2.07 0-2.86zM5.41 20L4 18.59l7.72-7.72 1.47 1.35L5.41 20z\"/>\n",
              "  </svg>\n",
              "      </button>\n",
              "      \n",
              "  <style>\n",
              "    .colab-df-container {\n",
              "      display:flex;\n",
              "      flex-wrap:wrap;\n",
              "      gap: 12px;\n",
              "    }\n",
              "\n",
              "    .colab-df-convert {\n",
              "      background-color: #E8F0FE;\n",
              "      border: none;\n",
              "      border-radius: 50%;\n",
              "      cursor: pointer;\n",
              "      display: none;\n",
              "      fill: #1967D2;\n",
              "      height: 32px;\n",
              "      padding: 0 0 0 0;\n",
              "      width: 32px;\n",
              "    }\n",
              "\n",
              "    .colab-df-convert:hover {\n",
              "      background-color: #E2EBFA;\n",
              "      box-shadow: 0px 1px 2px rgba(60, 64, 67, 0.3), 0px 1px 3px 1px rgba(60, 64, 67, 0.15);\n",
              "      fill: #174EA6;\n",
              "    }\n",
              "\n",
              "    [theme=dark] .colab-df-convert {\n",
              "      background-color: #3B4455;\n",
              "      fill: #D2E3FC;\n",
              "    }\n",
              "\n",
              "    [theme=dark] .colab-df-convert:hover {\n",
              "      background-color: #434B5C;\n",
              "      box-shadow: 0px 1px 3px 1px rgba(0, 0, 0, 0.15);\n",
              "      filter: drop-shadow(0px 1px 2px rgba(0, 0, 0, 0.3));\n",
              "      fill: #FFFFFF;\n",
              "    }\n",
              "  </style>\n",
              "\n",
              "      <script>\n",
              "        const buttonEl =\n",
              "          document.querySelector('#df-e27fa8be-5363-4311-8f93-d427ad596a79 button.colab-df-convert');\n",
              "        buttonEl.style.display =\n",
              "          google.colab.kernel.accessAllowed ? 'block' : 'none';\n",
              "\n",
              "        async function convertToInteractive(key) {\n",
              "          const element = document.querySelector('#df-e27fa8be-5363-4311-8f93-d427ad596a79');\n",
              "          const dataTable =\n",
              "            await google.colab.kernel.invokeFunction('convertToInteractive',\n",
              "                                                     [key], {});\n",
              "          if (!dataTable) return;\n",
              "\n",
              "          const docLinkHtml = 'Like what you see? Visit the ' +\n",
              "            '<a target=\"_blank\" href=https://colab.research.google.com/notebooks/data_table.ipynb>data table notebook</a>'\n",
              "            + ' to learn more about interactive tables.';\n",
              "          element.innerHTML = '';\n",
              "          dataTable['output_type'] = 'display_data';\n",
              "          await google.colab.output.renderOutput(dataTable, element);\n",
              "          const docLink = document.createElement('div');\n",
              "          docLink.innerHTML = docLinkHtml;\n",
              "          element.appendChild(docLink);\n",
              "        }\n",
              "      </script>\n",
              "    </div>\n",
              "  </div>\n",
              "  "
            ]
          },
          "metadata": {},
          "execution_count": 5
        }
      ]
    },
    {
      "cell_type": "code",
      "source": [
        "df.isnull().sum()\n"
      ],
      "metadata": {
        "colab": {
          "base_uri": "https://localhost:8080/"
        },
        "id": "KRuwyg4tN627",
        "outputId": "732f9cd6-e1d9-42ba-c1b1-b7dc70ef5ecc"
      },
      "execution_count": null,
      "outputs": [
        {
          "output_type": "execute_result",
          "data": {
            "text/plain": [
              "userId                 0\n",
              "score                  0\n",
              "timestamp              0\n",
              "id                     0\n",
              "show_id                0\n",
              "type                   0\n",
              "title                  0\n",
              "director         3960615\n",
              "cast             2550859\n",
              "country          5510080\n",
              "date_added       4577546\n",
              "release_year           0\n",
              "rating                 0\n",
              "duration          231117\n",
              "listed_in              0\n",
              "description         1815\n",
              "plataforma             0\n",
              "duration_int      231117\n",
              "duration_type     231117\n",
              "dtype: int64"
            ]
          },
          "metadata": {},
          "execution_count": 6
        }
      ]
    },
    {
      "cell_type": "code",
      "source": [
        "df = df.drop(['show_id', 'description','duration'], axis=1)"
      ],
      "metadata": {
        "id": "aRiQk6iJu45v"
      },
      "execution_count": null,
      "outputs": []
    },
    {
      "cell_type": "markdown",
      "source": [
        "Histograma de la puntuación de la película:"
      ],
      "metadata": {
        "id": "7ntYsggI6g3A"
      }
    },
    {
      "cell_type": "code",
      "source": [
        "plt.hist(df['score'], bins=10)\n",
        "plt.xlabel('Puntuación')\n",
        "plt.ylabel('Frecuencia')\n",
        "plt.title('Distribución de la puntuación de las películas')\n",
        "plt.show()\n"
      ],
      "metadata": {
        "id": "cc-4Udsju4sf",
        "colab": {
          "base_uri": "https://localhost:8080/",
          "height": 295
        },
        "outputId": "1b5cd8dd-b0f3-4dc5-d18b-723d73250ae8"
      },
      "execution_count": null,
      "outputs": [
        {
          "output_type": "display_data",
          "data": {
            "text/plain": [
              "<Figure size 432x288 with 1 Axes>"
            ],
            "image/png": "[encoded data removed]"
          },
          "metadata": {
            "needs_background": "light"
          }
        }
      ]
    },
    {
      "cell_type": "markdown",
      "source": [
        "Diagrama de dispersión de la puntuación de la película y el tiempo que tarda el usuario en verla:"
      ],
      "metadata": {
        "id": "MeqQ8sAf6i_3"
      }
    },
    {
      "cell_type": "code",
      "source": [
        "plt.scatter(df['score'], df['timestamp'])\n",
        "plt.xlabel('Puntuación')\n",
        "plt.ylabel('Tiempo (segundos)')\n",
        "plt.title('Relación entre la puntuación de la película y el tiempo que tarda el usuario en verla')\n",
        "plt.show()\n"
      ],
      "metadata": {
        "id": "4koRXu37u4lf",
        "colab": {
          "base_uri": "https://localhost:8080/",
          "height": 246
        },
        "outputId": "fbc81581-2823-4ec3-c101-2cd079fca4d1"
      },
      "execution_count": null,
      "outputs": [
        {
          "output_type": "error",
          "ename": "NameError",
          "evalue": "ignored",
          "traceback": [
            "\u001b[0;31m---------------------------------------------------------------------------\u001b[0m",
            "\u001b[0;31mNameError\u001b[0m                                 Traceback (most recent call last)",
            "\u001b[0;32m<ipython-input-1-08176cbfe47c>\u001b[0m in \u001b[0;36m<module>\u001b[0;34m\u001b[0m\n\u001b[0;32m----> 1\u001b[0;31m \u001b[0mplt\u001b[0m\u001b[0;34m.\u001b[0m\u001b[0mscatter\u001b[0m\u001b[0;34m(\u001b[0m\u001b[0mdf\u001b[0m\u001b[0;34m[\u001b[0m\u001b[0;34m'score'\u001b[0m\u001b[0;34m]\u001b[0m\u001b[0;34m,\u001b[0m \u001b[0mdf\u001b[0m\u001b[0;34m[\u001b[0m\u001b[0;34m'timestamp'\u001b[0m\u001b[0;34m]\u001b[0m\u001b[0;34m)\u001b[0m\u001b[0;34m\u001b[0m\u001b[0;34m\u001b[0m\u001b[0m\n\u001b[0m\u001b[1;32m      2\u001b[0m \u001b[0mplt\u001b[0m\u001b[0;34m.\u001b[0m\u001b[0mxlabel\u001b[0m\u001b[0;34m(\u001b[0m\u001b[0;34m'Puntuación'\u001b[0m\u001b[0;34m)\u001b[0m\u001b[0;34m\u001b[0m\u001b[0;34m\u001b[0m\u001b[0m\n\u001b[1;32m      3\u001b[0m \u001b[0mplt\u001b[0m\u001b[0;34m.\u001b[0m\u001b[0mylabel\u001b[0m\u001b[0;34m(\u001b[0m\u001b[0;34m'Tiempo (segundos)'\u001b[0m\u001b[0;34m)\u001b[0m\u001b[0;34m\u001b[0m\u001b[0;34m\u001b[0m\u001b[0m\n\u001b[1;32m      4\u001b[0m \u001b[0mplt\u001b[0m\u001b[0;34m.\u001b[0m\u001b[0mtitle\u001b[0m\u001b[0;34m(\u001b[0m\u001b[0;34m'Relación entre la puntuación de la película y el tiempo que tarda el usuario en verla'\u001b[0m\u001b[0;34m)\u001b[0m\u001b[0;34m\u001b[0m\u001b[0;34m\u001b[0m\u001b[0m\n\u001b[1;32m      5\u001b[0m \u001b[0mplt\u001b[0m\u001b[0;34m.\u001b[0m\u001b[0mshow\u001b[0m\u001b[0;34m(\u001b[0m\u001b[0;34m)\u001b[0m\u001b[0;34m\u001b[0m\u001b[0;34m\u001b[0m\u001b[0m\n",
            "\u001b[0;31mNameError\u001b[0m: name 'plt' is not defined"
          ]
        }
      ]
    },
    {
      "cell_type": "code",
      "source": [
        "plt.bar(['Netflix', 'Amazon Prime Video', 'Disney Plus', 'Hulu'], df['plataforma'].value_counts().values)\n",
        "plt.xlabel('Plataforma')\n",
        "plt.ylabel('Número de películas')\n",
        "plt.title('Número de películas en cada plataforma')\n",
        "plt.show()\n"
      ],
      "metadata": {
        "id": "XibcesKIu4bb",
        "colab": {
          "base_uri": "https://localhost:8080/",
          "height": 295
        },
        "outputId": "ad465f89-d28d-4eba-986a-4d128a7a03c8"
      },
      "execution_count": null,
      "outputs": [
        {
          "output_type": "display_data",
          "data": {
            "text/plain": [
              "<Figure size 432x288 with 1 Axes>"
            ],
            "image/png": "[encoded data removed]"
          },
          "metadata": {
            "needs_background": "light"
          }
        }
      ]
    },
    {
      "cell_type": "code",
      "source": [
        "plt.pie(data['type'].value_counts().values, labels=['Películas', 'Programas de televisión'])\n",
        "plt.title('Proporción de películas versus programas de televisión')\n",
        "plt.show()\n"
      ],
      "metadata": {
        "id": "_yuF39hZu4Vk"
      },
      "execution_count": null,
      "outputs": []
    },
    {
      "cell_type": "code",
      "source": [
        "genre_rating = data.groupby('listed_in')['rating'].mean().unstack()\n",
        "sns.heatmap(genre_rating, cmap='YlGnBu')\n",
        "plt.title('Correlación entre el rating de la película y el género')\n",
        "plt.show()\n"
      ],
      "metadata": {
        "id": "dSNnQiohu4Nw"
      },
      "execution_count": null,
      "outputs": []
    },
    {
      "cell_type": "markdown",
      "source": [],
      "metadata": {
        "id": "Ngi8R6yF8EmW"
      }
    },
    {
      "cell_type": "code",
      "source": [],
      "metadata": {
        "id": "Vp_xQAst8FGu"
      },
      "execution_count": null,
      "outputs": []
    }
  ]
}